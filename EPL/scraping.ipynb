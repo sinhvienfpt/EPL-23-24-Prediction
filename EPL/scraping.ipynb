{
 "cells": [
  {
   "cell_type": "markdown",
   "id": "7150698f",
   "metadata": {},
   "source": [
    "## Import libraries\n",
    "- request\n",
    "- bs4/BeautifulSoup\n",
    "- pandas"
   ]
  },
  {
   "cell_type": "code",
   "execution_count": 1,
   "id": "c6bfd871-93e9-4146-bb46-97b54a7190a2",
   "metadata": {},
   "outputs": [],
   "source": [
    "import requests\n",
    "from bs4 import BeautifulSoup\n",
    "import pandas as pd \n",
    "\n",
    "url = \"https://fbref.com/en/comps/9/Premier-League-Stats\""
   ]
  },
  {
   "cell_type": "code",
   "execution_count": 2,
   "id": "bec03d7c-4415-4ff4-953b-dc016c5766e8",
   "metadata": {},
   "outputs": [],
   "source": [
    "resp = requests.get(url)"
   ]
  },
  {
   "cell_type": "markdown",
   "id": "160e5f15",
   "metadata": {
    "vscode": {
     "languageId": "html"
    }
   },
   "source": [
    "## Get all squad links\n",
    "1. Find the table with `table` element with `class= \"stats_table\"`\n",
    "2. Find all links of the table rows (`get 'href'`)\n",
    "3. Check link is start with `/en/squads/` or then add to list\n"
   ]
  },
  {
   "cell_type": "code",
   "execution_count": 3,
   "id": "91f572f2",
   "metadata": {},
   "outputs": [
    {
     "data": {
      "text/plain": [
       "['/en/squads/b8fd03ef/Manchester-City-Stats',\n",
       " '/en/squads/18bb7c10/Arsenal-Stats',\n",
       " '/en/squads/822bd0ba/Liverpool-Stats',\n",
       " '/en/squads/8602292d/Aston-Villa-Stats',\n",
       " '/en/squads/361ca564/Tottenham-Hotspur-Stats',\n",
       " '/en/squads/cff3d9bb/Chelsea-Stats',\n",
       " '/en/squads/b2b47a98/Newcastle-United-Stats',\n",
       " '/en/squads/19538871/Manchester-United-Stats',\n",
       " '/en/squads/7c21e445/West-Ham-United-Stats',\n",
       " '/en/squads/d07537b9/Brighton-and-Hove-Albion-Stats',\n",
       " '/en/squads/4ba7cbea/Bournemouth-Stats',\n",
       " '/en/squads/47c64c55/Crystal-Palace-Stats',\n",
       " '/en/squads/8cec06e1/Wolverhampton-Wanderers-Stats',\n",
       " '/en/squads/fd962109/Fulham-Stats',\n",
       " '/en/squads/d3fd31cc/Everton-Stats',\n",
       " '/en/squads/cd051869/Brentford-Stats',\n",
       " '/en/squads/e4a775cb/Nottingham-Forest-Stats',\n",
       " '/en/squads/e297cd13/Luton-Town-Stats',\n",
       " '/en/squads/943e8050/Burnley-Stats',\n",
       " '/en/squads/1df6b87e/Sheffield-United-Stats']"
      ]
     },
     "execution_count": 3,
     "metadata": {},
     "output_type": "execute_result"
    }
   ],
   "source": [
    "soup = BeautifulSoup(resp.text, 'html.parser')              \n",
    "standing_table = soup.find_all('table', class_=\"stats_table\")[0]\n",
    "links = standing_table.find_all('a')\n",
    "links = [link.get('href') for link in links]\n",
    "links = [link for link in links if link.startswith('/en/squads/')]\n",
    "links "
   ]
  },
  {
   "cell_type": "code",
   "execution_count": 4,
   "id": "a8f4cef8-4e0c-46ef-92be-8adfe5c9463a",
   "metadata": {},
   "outputs": [
    {
     "data": {
      "text/plain": [
       "['https://fbref.com/en/squads/b8fd03ef/Manchester-City-Stats',\n",
       " 'https://fbref.com/en/squads/18bb7c10/Arsenal-Stats',\n",
       " 'https://fbref.com/en/squads/822bd0ba/Liverpool-Stats',\n",
       " 'https://fbref.com/en/squads/8602292d/Aston-Villa-Stats',\n",
       " 'https://fbref.com/en/squads/361ca564/Tottenham-Hotspur-Stats',\n",
       " 'https://fbref.com/en/squads/cff3d9bb/Chelsea-Stats',\n",
       " 'https://fbref.com/en/squads/b2b47a98/Newcastle-United-Stats',\n",
       " 'https://fbref.com/en/squads/19538871/Manchester-United-Stats',\n",
       " 'https://fbref.com/en/squads/7c21e445/West-Ham-United-Stats',\n",
       " 'https://fbref.com/en/squads/d07537b9/Brighton-and-Hove-Albion-Stats',\n",
       " 'https://fbref.com/en/squads/4ba7cbea/Bournemouth-Stats',\n",
       " 'https://fbref.com/en/squads/47c64c55/Crystal-Palace-Stats',\n",
       " 'https://fbref.com/en/squads/8cec06e1/Wolverhampton-Wanderers-Stats',\n",
       " 'https://fbref.com/en/squads/fd962109/Fulham-Stats',\n",
       " 'https://fbref.com/en/squads/d3fd31cc/Everton-Stats',\n",
       " 'https://fbref.com/en/squads/cd051869/Brentford-Stats',\n",
       " 'https://fbref.com/en/squads/e4a775cb/Nottingham-Forest-Stats',\n",
       " 'https://fbref.com/en/squads/e297cd13/Luton-Town-Stats',\n",
       " 'https://fbref.com/en/squads/943e8050/Burnley-Stats',\n",
       " 'https://fbref.com/en/squads/1df6b87e/Sheffield-United-Stats']"
      ]
     },
     "execution_count": 4,
     "metadata": {},
     "output_type": "execute_result"
    }
   ],
   "source": [
    "team_urls = [f\"https://fbref.com{l}\" for l in links]\n",
    "team_urls"
   ]
  },
  {
   "cell_type": "markdown",
   "id": "d5d9aaf3",
   "metadata": {},
   "source": [
    "## Scraping squad games"
   ]
  },
  {
   "cell_type": "code",
   "execution_count": 5,
   "id": "8aa5b953",
   "metadata": {},
   "outputs": [
    {
     "name": "stderr",
     "output_type": "stream",
     "text": [
      "C:\\Users\\ADMIN\\AppData\\Local\\Temp\\ipykernel_7964\\2057238521.py:6: FutureWarning: Passing literal html to 'read_html' is deprecated and will be removed in a future version. To read from a literal string, wrap it in a 'StringIO' object.\n",
      "  matches = pd.read_html(data.text,match=\"Scores & Fixtures\")[0]\n",
      "C:\\Users\\ADMIN\\AppData\\Local\\Temp\\ipykernel_7964\\2057238521.py:13: FutureWarning: Passing literal html to 'read_html' is deprecated and will be removed in a future version. To read from a literal string, wrap it in a 'StringIO' object.\n",
      "  shooting = pd.read_html(data.text,match='Shooting')[0]\n",
      "C:\\Users\\ADMIN\\AppData\\Local\\Temp\\ipykernel_7964\\2057238521.py:6: FutureWarning: Passing literal html to 'read_html' is deprecated and will be removed in a future version. To read from a literal string, wrap it in a 'StringIO' object.\n",
      "  matches = pd.read_html(data.text,match=\"Scores & Fixtures\")[0]\n",
      "C:\\Users\\ADMIN\\AppData\\Local\\Temp\\ipykernel_7964\\2057238521.py:13: FutureWarning: Passing literal html to 'read_html' is deprecated and will be removed in a future version. To read from a literal string, wrap it in a 'StringIO' object.\n",
      "  shooting = pd.read_html(data.text,match='Shooting')[0]\n",
      "C:\\Users\\ADMIN\\AppData\\Local\\Temp\\ipykernel_7964\\2057238521.py:6: FutureWarning: Passing literal html to 'read_html' is deprecated and will be removed in a future version. To read from a literal string, wrap it in a 'StringIO' object.\n",
      "  matches = pd.read_html(data.text,match=\"Scores & Fixtures\")[0]\n",
      "C:\\Users\\ADMIN\\AppData\\Local\\Temp\\ipykernel_7964\\2057238521.py:13: FutureWarning: Passing literal html to 'read_html' is deprecated and will be removed in a future version. To read from a literal string, wrap it in a 'StringIO' object.\n",
      "  shooting = pd.read_html(data.text,match='Shooting')[0]\n",
      "C:\\Users\\ADMIN\\AppData\\Local\\Temp\\ipykernel_7964\\2057238521.py:6: FutureWarning: Passing literal html to 'read_html' is deprecated and will be removed in a future version. To read from a literal string, wrap it in a 'StringIO' object.\n",
      "  matches = pd.read_html(data.text,match=\"Scores & Fixtures\")[0]\n",
      "C:\\Users\\ADMIN\\AppData\\Local\\Temp\\ipykernel_7964\\2057238521.py:13: FutureWarning: Passing literal html to 'read_html' is deprecated and will be removed in a future version. To read from a literal string, wrap it in a 'StringIO' object.\n",
      "  shooting = pd.read_html(data.text,match='Shooting')[0]\n",
      "C:\\Users\\ADMIN\\AppData\\Local\\Temp\\ipykernel_7964\\2057238521.py:6: FutureWarning: Passing literal html to 'read_html' is deprecated and will be removed in a future version. To read from a literal string, wrap it in a 'StringIO' object.\n",
      "  matches = pd.read_html(data.text,match=\"Scores & Fixtures\")[0]\n",
      "C:\\Users\\ADMIN\\AppData\\Local\\Temp\\ipykernel_7964\\2057238521.py:13: FutureWarning: Passing literal html to 'read_html' is deprecated and will be removed in a future version. To read from a literal string, wrap it in a 'StringIO' object.\n",
      "  shooting = pd.read_html(data.text,match='Shooting')[0]\n",
      "C:\\Users\\ADMIN\\AppData\\Local\\Temp\\ipykernel_7964\\2057238521.py:6: FutureWarning: Passing literal html to 'read_html' is deprecated and will be removed in a future version. To read from a literal string, wrap it in a 'StringIO' object.\n",
      "  matches = pd.read_html(data.text,match=\"Scores & Fixtures\")[0]\n",
      "C:\\Users\\ADMIN\\AppData\\Local\\Temp\\ipykernel_7964\\2057238521.py:13: FutureWarning: Passing literal html to 'read_html' is deprecated and will be removed in a future version. To read from a literal string, wrap it in a 'StringIO' object.\n",
      "  shooting = pd.read_html(data.text,match='Shooting')[0]\n",
      "C:\\Users\\ADMIN\\AppData\\Local\\Temp\\ipykernel_7964\\2057238521.py:6: FutureWarning: Passing literal html to 'read_html' is deprecated and will be removed in a future version. To read from a literal string, wrap it in a 'StringIO' object.\n",
      "  matches = pd.read_html(data.text,match=\"Scores & Fixtures\")[0]\n",
      "C:\\Users\\ADMIN\\AppData\\Local\\Temp\\ipykernel_7964\\2057238521.py:13: FutureWarning: Passing literal html to 'read_html' is deprecated and will be removed in a future version. To read from a literal string, wrap it in a 'StringIO' object.\n",
      "  shooting = pd.read_html(data.text,match='Shooting')[0]\n",
      "C:\\Users\\ADMIN\\AppData\\Local\\Temp\\ipykernel_7964\\2057238521.py:6: FutureWarning: Passing literal html to 'read_html' is deprecated and will be removed in a future version. To read from a literal string, wrap it in a 'StringIO' object.\n",
      "  matches = pd.read_html(data.text,match=\"Scores & Fixtures\")[0]\n",
      "C:\\Users\\ADMIN\\AppData\\Local\\Temp\\ipykernel_7964\\2057238521.py:13: FutureWarning: Passing literal html to 'read_html' is deprecated and will be removed in a future version. To read from a literal string, wrap it in a 'StringIO' object.\n",
      "  shooting = pd.read_html(data.text,match='Shooting')[0]\n",
      "C:\\Users\\ADMIN\\AppData\\Local\\Temp\\ipykernel_7964\\2057238521.py:6: FutureWarning: Passing literal html to 'read_html' is deprecated and will be removed in a future version. To read from a literal string, wrap it in a 'StringIO' object.\n",
      "  matches = pd.read_html(data.text,match=\"Scores & Fixtures\")[0]\n",
      "C:\\Users\\ADMIN\\AppData\\Local\\Temp\\ipykernel_7964\\2057238521.py:13: FutureWarning: Passing literal html to 'read_html' is deprecated and will be removed in a future version. To read from a literal string, wrap it in a 'StringIO' object.\n",
      "  shooting = pd.read_html(data.text,match='Shooting')[0]\n",
      "C:\\Users\\ADMIN\\AppData\\Local\\Temp\\ipykernel_7964\\2057238521.py:6: FutureWarning: Passing literal html to 'read_html' is deprecated and will be removed in a future version. To read from a literal string, wrap it in a 'StringIO' object.\n",
      "  matches = pd.read_html(data.text,match=\"Scores & Fixtures\")[0]\n",
      "C:\\Users\\ADMIN\\AppData\\Local\\Temp\\ipykernel_7964\\2057238521.py:13: FutureWarning: Passing literal html to 'read_html' is deprecated and will be removed in a future version. To read from a literal string, wrap it in a 'StringIO' object.\n",
      "  shooting = pd.read_html(data.text,match='Shooting')[0]\n",
      "C:\\Users\\ADMIN\\AppData\\Local\\Temp\\ipykernel_7964\\2057238521.py:6: FutureWarning: Passing literal html to 'read_html' is deprecated and will be removed in a future version. To read from a literal string, wrap it in a 'StringIO' object.\n",
      "  matches = pd.read_html(data.text,match=\"Scores & Fixtures\")[0]\n",
      "C:\\Users\\ADMIN\\AppData\\Local\\Temp\\ipykernel_7964\\2057238521.py:13: FutureWarning: Passing literal html to 'read_html' is deprecated and will be removed in a future version. To read from a literal string, wrap it in a 'StringIO' object.\n",
      "  shooting = pd.read_html(data.text,match='Shooting')[0]\n",
      "C:\\Users\\ADMIN\\AppData\\Local\\Temp\\ipykernel_7964\\2057238521.py:6: FutureWarning: Passing literal html to 'read_html' is deprecated and will be removed in a future version. To read from a literal string, wrap it in a 'StringIO' object.\n",
      "  matches = pd.read_html(data.text,match=\"Scores & Fixtures\")[0]\n",
      "C:\\Users\\ADMIN\\AppData\\Local\\Temp\\ipykernel_7964\\2057238521.py:13: FutureWarning: Passing literal html to 'read_html' is deprecated and will be removed in a future version. To read from a literal string, wrap it in a 'StringIO' object.\n",
      "  shooting = pd.read_html(data.text,match='Shooting')[0]\n",
      "C:\\Users\\ADMIN\\AppData\\Local\\Temp\\ipykernel_7964\\2057238521.py:6: FutureWarning: Passing literal html to 'read_html' is deprecated and will be removed in a future version. To read from a literal string, wrap it in a 'StringIO' object.\n",
      "  matches = pd.read_html(data.text,match=\"Scores & Fixtures\")[0]\n",
      "C:\\Users\\ADMIN\\AppData\\Local\\Temp\\ipykernel_7964\\2057238521.py:13: FutureWarning: Passing literal html to 'read_html' is deprecated and will be removed in a future version. To read from a literal string, wrap it in a 'StringIO' object.\n",
      "  shooting = pd.read_html(data.text,match='Shooting')[0]\n",
      "C:\\Users\\ADMIN\\AppData\\Local\\Temp\\ipykernel_7964\\2057238521.py:6: FutureWarning: Passing literal html to 'read_html' is deprecated and will be removed in a future version. To read from a literal string, wrap it in a 'StringIO' object.\n",
      "  matches = pd.read_html(data.text,match=\"Scores & Fixtures\")[0]\n",
      "C:\\Users\\ADMIN\\AppData\\Local\\Temp\\ipykernel_7964\\2057238521.py:13: FutureWarning: Passing literal html to 'read_html' is deprecated and will be removed in a future version. To read from a literal string, wrap it in a 'StringIO' object.\n",
      "  shooting = pd.read_html(data.text,match='Shooting')[0]\n",
      "C:\\Users\\ADMIN\\AppData\\Local\\Temp\\ipykernel_7964\\2057238521.py:6: FutureWarning: Passing literal html to 'read_html' is deprecated and will be removed in a future version. To read from a literal string, wrap it in a 'StringIO' object.\n",
      "  matches = pd.read_html(data.text,match=\"Scores & Fixtures\")[0]\n",
      "C:\\Users\\ADMIN\\AppData\\Local\\Temp\\ipykernel_7964\\2057238521.py:13: FutureWarning: Passing literal html to 'read_html' is deprecated and will be removed in a future version. To read from a literal string, wrap it in a 'StringIO' object.\n",
      "  shooting = pd.read_html(data.text,match='Shooting')[0]\n",
      "C:\\Users\\ADMIN\\AppData\\Local\\Temp\\ipykernel_7964\\2057238521.py:6: FutureWarning: Passing literal html to 'read_html' is deprecated and will be removed in a future version. To read from a literal string, wrap it in a 'StringIO' object.\n",
      "  matches = pd.read_html(data.text,match=\"Scores & Fixtures\")[0]\n",
      "C:\\Users\\ADMIN\\AppData\\Local\\Temp\\ipykernel_7964\\2057238521.py:13: FutureWarning: Passing literal html to 'read_html' is deprecated and will be removed in a future version. To read from a literal string, wrap it in a 'StringIO' object.\n",
      "  shooting = pd.read_html(data.text,match='Shooting')[0]\n",
      "C:\\Users\\ADMIN\\AppData\\Local\\Temp\\ipykernel_7964\\2057238521.py:6: FutureWarning: Passing literal html to 'read_html' is deprecated and will be removed in a future version. To read from a literal string, wrap it in a 'StringIO' object.\n",
      "  matches = pd.read_html(data.text,match=\"Scores & Fixtures\")[0]\n",
      "C:\\Users\\ADMIN\\AppData\\Local\\Temp\\ipykernel_7964\\2057238521.py:13: FutureWarning: Passing literal html to 'read_html' is deprecated and will be removed in a future version. To read from a literal string, wrap it in a 'StringIO' object.\n",
      "  shooting = pd.read_html(data.text,match='Shooting')[0]\n",
      "C:\\Users\\ADMIN\\AppData\\Local\\Temp\\ipykernel_7964\\2057238521.py:6: FutureWarning: Passing literal html to 'read_html' is deprecated and will be removed in a future version. To read from a literal string, wrap it in a 'StringIO' object.\n",
      "  matches = pd.read_html(data.text,match=\"Scores & Fixtures\")[0]\n",
      "C:\\Users\\ADMIN\\AppData\\Local\\Temp\\ipykernel_7964\\2057238521.py:13: FutureWarning: Passing literal html to 'read_html' is deprecated and will be removed in a future version. To read from a literal string, wrap it in a 'StringIO' object.\n",
      "  shooting = pd.read_html(data.text,match='Shooting')[0]\n",
      "C:\\Users\\ADMIN\\AppData\\Local\\Temp\\ipykernel_7964\\2057238521.py:6: FutureWarning: Passing literal html to 'read_html' is deprecated and will be removed in a future version. To read from a literal string, wrap it in a 'StringIO' object.\n",
      "  matches = pd.read_html(data.text,match=\"Scores & Fixtures\")[0]\n",
      "C:\\Users\\ADMIN\\AppData\\Local\\Temp\\ipykernel_7964\\2057238521.py:13: FutureWarning: Passing literal html to 'read_html' is deprecated and will be removed in a future version. To read from a literal string, wrap it in a 'StringIO' object.\n",
      "  shooting = pd.read_html(data.text,match='Shooting')[0]\n",
      "C:\\Users\\ADMIN\\AppData\\Local\\Temp\\ipykernel_7964\\2057238521.py:6: FutureWarning: Passing literal html to 'read_html' is deprecated and will be removed in a future version. To read from a literal string, wrap it in a 'StringIO' object.\n",
      "  matches = pd.read_html(data.text,match=\"Scores & Fixtures\")[0]\n",
      "C:\\Users\\ADMIN\\AppData\\Local\\Temp\\ipykernel_7964\\2057238521.py:13: FutureWarning: Passing literal html to 'read_html' is deprecated and will be removed in a future version. To read from a literal string, wrap it in a 'StringIO' object.\n",
      "  shooting = pd.read_html(data.text,match='Shooting')[0]\n"
     ]
    }
   ],
   "source": [
    "RESULT = []\n",
    "for team_url in team_urls:\n",
    "    team_name = team_url.split('/')[-1].replace(\"-Stats\",'').replace('-',' ')\n",
    "    data = requests.get(team_url)\n",
    "    \n",
    "    matches = pd.read_html(data.text,match=\"Scores & Fixtures\")[0]\n",
    "    \n",
    "    soup = BeautifulSoup(data.text, 'html.parser')\n",
    "    links = [link.get('href') for link in soup.find_all('a')]\n",
    "    links = [link for link in links if link and 'all_comps/shooting/' in link]\n",
    "    \n",
    "    data = requests.get(f\"https://fbref.com{links[0]}\")\n",
    "    shooting = pd.read_html(data.text,match='Shooting')[0]\n",
    "    shooting.columns = shooting.columns.droplevel()\n",
    "    try:\n",
    "        team_data = matches.merge(shooting[[\"Date\", \"Sh\", \"SoT\", \"Dist\", \"FK\", \"PK\", \"PKatt\"]], on=\"Date\")\n",
    "    except ValueError:\n",
    "        continue\n",
    "    team_data = team_data[team_data['Comp'] == 'Premier League']\n",
    "    team_data['Season'] = 2024 \n",
    "    team_data['Team'] = team_name\n",
    "    RESULT.append(team_data)      "
   ]
  },
  {
   "cell_type": "markdown",
   "id": "fa3aae12",
   "metadata": {},
   "source": [
    "## Write it into csv"
   ]
  },
  {
   "cell_type": "code",
   "execution_count": 6,
   "id": "2a1fcee0",
   "metadata": {},
   "outputs": [],
   "source": [
    "import datetime\n",
    "RESULT_DF = pd.concat(RESULT)\n",
    "RESULT_DF.columns = [c.lower() for c in RESULT_DF.columns]\n",
    "current_date = datetime.datetime.now().strftime(\"%Y-%m-%d\")\n",
    "RESULT_DF.to_csv(f'matches{current_date}.csv', index=False)"
   ]
  }
 ],
 "metadata": {
  "kernelspec": {
   "display_name": "Python 3 (ipykernel)",
   "language": "python",
   "name": "python3"
  },
  "language_info": {
   "codemirror_mode": {
    "name": "ipython",
    "version": 3
   },
   "file_extension": ".py",
   "mimetype": "text/x-python",
   "name": "python",
   "nbconvert_exporter": "python",
   "pygments_lexer": "ipython3",
   "version": "3.11.7"
  }
 },
 "nbformat": 4,
 "nbformat_minor": 5
}
